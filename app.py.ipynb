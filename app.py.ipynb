{
 "cells": [
  {
   "cell_type": "code",
   "execution_count": null,
   "id": "7d3a5024",
   "metadata": {},
   "outputs": [
    {
     "name": "stdout",
     "output_type": "stream",
     "text": [
      "SVM model loaded from DC.joblib\n",
      " * Serving Flask app '__main__'\n",
      " * Debug mode: on\n"
     ]
    },
    {
     "name": "stderr",
     "output_type": "stream",
     "text": [
      "WARNING: This is a development server. Do not use it in a production deployment. Use a production WSGI server instead.\n",
      " * Running on http://127.0.0.1:5000\n",
      "Press CTRL+C to quit\n",
      "127.0.0.1 - - [09/Jul/2024 01:44:47] \"GET / HTTP/1.1\" 200 -\n",
      "127.0.0.1 - - [09/Jul/2024 01:44:47] \"GET /static/styles.css HTTP/1.1\" 304 -\n",
      "127.0.0.1 - - [09/Jul/2024 01:44:47] \"GET /static/scripts.js HTTP/1.1\" 304 -\n",
      "127.0.0.1 - - [09/Jul/2024 01:44:47] \"GET /static/{{%20url_for('static',%20filename='background.jpg')%20}} HTTP/1.1\" 404 -\n"
     ]
    },
    {
     "name": "stdout",
     "output_type": "stream",
     "text": [
      "1/1 [==============================] - 1s 528ms/step\n"
     ]
    },
    {
     "name": "stderr",
     "output_type": "stream",
     "text": [
      "127.0.0.1 - - [09/Jul/2024 01:44:53] \"POST / HTTP/1.1\" 200 -\n",
      "127.0.0.1 - - [09/Jul/2024 01:44:53] \"GET /static/styles.css HTTP/1.1\" 304 -\n",
      "127.0.0.1 - - [09/Jul/2024 01:44:53] \"GET /static/uploads/WhatsApp%20Image%202024-05-31%20at%209.42.35%20PM.jpeg HTTP/1.1\" 200 -\n",
      "127.0.0.1 - - [09/Jul/2024 01:44:58] \"GET / HTTP/1.1\" 200 -\n",
      "127.0.0.1 - - [09/Jul/2024 01:44:58] \"GET /static/styles.css HTTP/1.1\" 304 -\n",
      "127.0.0.1 - - [09/Jul/2024 01:44:58] \"GET /static/scripts.js HTTP/1.1\" 304 -\n"
     ]
    },
    {
     "name": "stdout",
     "output_type": "stream",
     "text": [
      "1/1 [==============================] - 0s 159ms/step\n"
     ]
    },
    {
     "name": "stderr",
     "output_type": "stream",
     "text": [
      "127.0.0.1 - - [09/Jul/2024 01:45:04] \"POST / HTTP/1.1\" 200 -\n",
      "127.0.0.1 - - [09/Jul/2024 01:45:04] \"GET /static/styles.css HTTP/1.1\" 304 -\n",
      "127.0.0.1 - - [09/Jul/2024 01:45:04] \"GET /static/uploads/WhatsApp%20Image%202024-05-31%20at%209.44.22%20PM.jpeg HTTP/1.1\" 200 -\n",
      "127.0.0.1 - - [09/Jul/2024 01:45:08] \"GET / HTTP/1.1\" 200 -\n",
      "127.0.0.1 - - [09/Jul/2024 01:45:08] \"GET /static/styles.css HTTP/1.1\" 304 -\n",
      "127.0.0.1 - - [09/Jul/2024 01:45:08] \"GET /static/scripts.js HTTP/1.1\" 304 -\n"
     ]
    },
    {
     "name": "stdout",
     "output_type": "stream",
     "text": [
      "1/1 [==============================] - 0s 155ms/step\n"
     ]
    },
    {
     "name": "stderr",
     "output_type": "stream",
     "text": [
      "127.0.0.1 - - [09/Jul/2024 01:45:13] \"POST / HTTP/1.1\" 200 -\n",
      "127.0.0.1 - - [09/Jul/2024 01:45:13] \"GET /static/styles.css HTTP/1.1\" 304 -\n",
      "127.0.0.1 - - [09/Jul/2024 01:45:13] \"GET /static/uploads/WhatsApp%20Image%202024-05-31%20at%209.46.10%20PM.jpeg HTTP/1.1\" 200 -\n",
      "127.0.0.1 - - [09/Jul/2024 01:45:18] \"GET / HTTP/1.1\" 200 -\n",
      "127.0.0.1 - - [09/Jul/2024 01:45:18] \"GET /static/styles.css HTTP/1.1\" 304 -\n",
      "127.0.0.1 - - [09/Jul/2024 01:45:18] \"GET /static/scripts.js HTTP/1.1\" 304 -\n"
     ]
    },
    {
     "name": "stdout",
     "output_type": "stream",
     "text": [
      "1/1 [==============================] - 0s 129ms/step\n"
     ]
    },
    {
     "name": "stderr",
     "output_type": "stream",
     "text": [
      "127.0.0.1 - - [09/Jul/2024 01:45:23] \"POST / HTTP/1.1\" 200 -\n",
      "127.0.0.1 - - [09/Jul/2024 01:45:23] \"GET /static/styles.css HTTP/1.1\" 304 -\n",
      "127.0.0.1 - - [09/Jul/2024 01:45:23] \"GET /static/uploads/WhatsApp%20Image%202024-05-31%20at%209.42.33%20PM.jpeg HTTP/1.1\" 200 -\n",
      "127.0.0.1 - - [09/Jul/2024 01:45:27] \"GET / HTTP/1.1\" 200 -\n",
      "127.0.0.1 - - [09/Jul/2024 01:45:27] \"GET /static/styles.css HTTP/1.1\" 304 -\n",
      "127.0.0.1 - - [09/Jul/2024 01:45:27] \"GET /static/scripts.js HTTP/1.1\" 304 -\n"
     ]
    },
    {
     "name": "stdout",
     "output_type": "stream",
     "text": [
      "1/1 [==============================] - 0s 126ms/step\n"
     ]
    },
    {
     "name": "stderr",
     "output_type": "stream",
     "text": [
      "127.0.0.1 - - [09/Jul/2024 01:45:33] \"POST / HTTP/1.1\" 200 -\n",
      "127.0.0.1 - - [09/Jul/2024 01:45:33] \"GET /static/styles.css HTTP/1.1\" 304 -\n",
      "127.0.0.1 - - [09/Jul/2024 01:45:34] \"GET /static/uploads/WhatsApp%20Image%202024-03-03%20at%203.29.05%20PM.jpeg HTTP/1.1\" 200 -\n",
      "127.0.0.1 - - [09/Jul/2024 01:45:38] \"GET / HTTP/1.1\" 200 -\n",
      "127.0.0.1 - - [09/Jul/2024 01:45:38] \"GET /static/styles.css HTTP/1.1\" 304 -\n",
      "127.0.0.1 - - [09/Jul/2024 01:45:38] \"GET /static/scripts.js HTTP/1.1\" 304 -\n"
     ]
    },
    {
     "name": "stdout",
     "output_type": "stream",
     "text": [
      "1/1 [==============================] - 0s 121ms/step\n"
     ]
    },
    {
     "name": "stderr",
     "output_type": "stream",
     "text": [
      "127.0.0.1 - - [09/Jul/2024 01:45:43] \"POST / HTTP/1.1\" 200 -\n",
      "127.0.0.1 - - [09/Jul/2024 01:45:44] \"GET /static/styles.css HTTP/1.1\" 304 -\n",
      "127.0.0.1 - - [09/Jul/2024 01:45:44] \"GET /static/uploads/iit.jpeg HTTP/1.1\" 200 -\n",
      "127.0.0.1 - - [09/Jul/2024 01:45:51] \"GET / HTTP/1.1\" 200 -\n",
      "127.0.0.1 - - [09/Jul/2024 01:45:51] \"GET /static/styles.css HTTP/1.1\" 304 -\n",
      "127.0.0.1 - - [09/Jul/2024 01:45:51] \"GET /static/scripts.js HTTP/1.1\" 304 -\n"
     ]
    },
    {
     "name": "stdout",
     "output_type": "stream",
     "text": [
      "1/1 [==============================] - 0s 171ms/step\n"
     ]
    },
    {
     "name": "stderr",
     "output_type": "stream",
     "text": [
      "127.0.0.1 - - [09/Jul/2024 01:46:01] \"POST / HTTP/1.1\" 200 -\n",
      "127.0.0.1 - - [09/Jul/2024 01:46:01] \"GET /static/styles.css HTTP/1.1\" 304 -\n",
      "127.0.0.1 - - [09/Jul/2024 01:46:01] \"GET /static/uploads/WhatsApp%20Image%202024-05-31%20at%209.49.02%20PM.jpeg HTTP/1.1\" 200 -\n",
      "127.0.0.1 - - [09/Jul/2024 01:46:03] \"GET / HTTP/1.1\" 200 -\n",
      "127.0.0.1 - - [09/Jul/2024 01:46:03] \"GET /static/styles.css HTTP/1.1\" 304 -\n",
      "127.0.0.1 - - [09/Jul/2024 01:46:03] \"GET /static/scripts.js HTTP/1.1\" 304 -\n"
     ]
    },
    {
     "name": "stdout",
     "output_type": "stream",
     "text": [
      "1/1 [==============================] - 0s 122ms/step\n"
     ]
    },
    {
     "name": "stderr",
     "output_type": "stream",
     "text": [
      "127.0.0.1 - - [09/Jul/2024 01:46:19] \"POST / HTTP/1.1\" 200 -\n",
      "127.0.0.1 - - [09/Jul/2024 01:46:19] \"GET /static/styles.css HTTP/1.1\" 304 -\n",
      "127.0.0.1 - - [09/Jul/2024 01:46:19] \"GET /static/uploads/PMI(2).jpg HTTP/1.1\" 200 -\n",
      "127.0.0.1 - - [09/Jul/2024 01:46:23] \"GET / HTTP/1.1\" 200 -\n",
      "127.0.0.1 - - [09/Jul/2024 01:46:23] \"GET /static/styles.css HTTP/1.1\" 304 -\n",
      "127.0.0.1 - - [09/Jul/2024 01:46:23] \"GET /static/scripts.js HTTP/1.1\" 304 -\n"
     ]
    },
    {
     "name": "stdout",
     "output_type": "stream",
     "text": [
      "1/1 [==============================] - 0s 133ms/step\n"
     ]
    },
    {
     "name": "stderr",
     "output_type": "stream",
     "text": [
      "127.0.0.1 - - [09/Jul/2024 01:46:45] \"POST / HTTP/1.1\" 200 -\n",
      "127.0.0.1 - - [09/Jul/2024 01:46:45] \"GET /static/styles.css HTTP/1.1\" 304 -\n",
      "127.0.0.1 - - [09/Jul/2024 01:46:45] \"GET /static/uploads/cat.10.jpg HTTP/1.1\" 200 -\n",
      "127.0.0.1 - - [09/Jul/2024 01:46:48] \"GET / HTTP/1.1\" 200 -\n",
      "127.0.0.1 - - [09/Jul/2024 01:46:48] \"GET /static/styles.css HTTP/1.1\" 304 -\n",
      "127.0.0.1 - - [09/Jul/2024 01:46:48] \"GET /static/scripts.js HTTP/1.1\" 304 -\n"
     ]
    },
    {
     "name": "stdout",
     "output_type": "stream",
     "text": [
      "1/1 [==============================] - 0s 166ms/step\n"
     ]
    },
    {
     "name": "stderr",
     "output_type": "stream",
     "text": [
      "127.0.0.1 - - [09/Jul/2024 01:47:09] \"POST / HTTP/1.1\" 200 -\n",
      "127.0.0.1 - - [09/Jul/2024 01:47:09] \"GET /static/styles.css HTTP/1.1\" 304 -\n",
      "127.0.0.1 - - [09/Jul/2024 01:47:09] \"GET /static/uploads/2500.jpg HTTP/1.1\" 200 -\n",
      "127.0.0.1 - - [09/Jul/2024 01:47:11] \"GET / HTTP/1.1\" 200 -\n",
      "127.0.0.1 - - [09/Jul/2024 01:47:11] \"GET /static/styles.css HTTP/1.1\" 304 -\n",
      "127.0.0.1 - - [09/Jul/2024 01:47:11] \"GET /static/scripts.js HTTP/1.1\" 304 -\n"
     ]
    },
    {
     "name": "stdout",
     "output_type": "stream",
     "text": [
      "1/1 [==============================] - 0s 124ms/step\n"
     ]
    },
    {
     "name": "stderr",
     "output_type": "stream",
     "text": [
      "127.0.0.1 - - [09/Jul/2024 01:47:29] \"POST / HTTP/1.1\" 200 -\n",
      "127.0.0.1 - - [09/Jul/2024 01:47:29] \"GET /static/styles.css HTTP/1.1\" 304 -\n",
      "127.0.0.1 - - [09/Jul/2024 01:47:29] \"GET /static/uploads/68.jpg HTTP/1.1\" 200 -\n",
      "127.0.0.1 - - [09/Jul/2024 01:47:32] \"GET / HTTP/1.1\" 200 -\n",
      "127.0.0.1 - - [09/Jul/2024 01:47:32] \"GET /static/styles.css HTTP/1.1\" 304 -\n",
      "127.0.0.1 - - [09/Jul/2024 01:47:32] \"GET /static/scripts.js HTTP/1.1\" 304 -\n"
     ]
    },
    {
     "name": "stdout",
     "output_type": "stream",
     "text": [
      "1/1 [==============================] - 0s 160ms/step\n"
     ]
    },
    {
     "name": "stderr",
     "output_type": "stream",
     "text": [
      "127.0.0.1 - - [09/Jul/2024 01:47:58] \"POST / HTTP/1.1\" 200 -\n",
      "127.0.0.1 - - [09/Jul/2024 01:47:58] \"GET /static/styles.css HTTP/1.1\" 304 -\n",
      "127.0.0.1 - - [09/Jul/2024 01:47:58] \"GET /static/uploads/149.jpg HTTP/1.1\" 200 -\n",
      "127.0.0.1 - - [09/Jul/2024 01:48:00] \"GET / HTTP/1.1\" 200 -\n",
      "127.0.0.1 - - [09/Jul/2024 01:48:00] \"GET /static/styles.css HTTP/1.1\" 304 -\n",
      "127.0.0.1 - - [09/Jul/2024 01:48:00] \"GET /static/scripts.js HTTP/1.1\" 304 -\n"
     ]
    },
    {
     "name": "stdout",
     "output_type": "stream",
     "text": [
      "1/1 [==============================] - 0s 126ms/step\n"
     ]
    },
    {
     "name": "stderr",
     "output_type": "stream",
     "text": [
      "127.0.0.1 - - [09/Jul/2024 01:48:17] \"POST / HTTP/1.1\" 200 -\n",
      "127.0.0.1 - - [09/Jul/2024 01:48:17] \"GET /static/styles.css HTTP/1.1\" 304 -\n",
      "127.0.0.1 - - [09/Jul/2024 01:48:17] \"GET /static/uploads/10.jpg HTTP/1.1\" 200 -\n",
      "127.0.0.1 - - [09/Jul/2024 01:48:19] \"GET / HTTP/1.1\" 200 -\n",
      "127.0.0.1 - - [09/Jul/2024 01:48:19] \"GET /static/styles.css HTTP/1.1\" 304 -\n",
      "127.0.0.1 - - [09/Jul/2024 01:48:19] \"GET /static/scripts.js HTTP/1.1\" 304 -\n"
     ]
    }
   ],
   "source": [
    "import os\n",
    "from flask import Flask, request, render_template, redirect, url_for\n",
    "import joblib\n",
    "import numpy as np\n",
    "from PIL import UnidentifiedImageError\n",
    "from tensorflow.keras.preprocessing.image import load_img, img_to_array\n",
    "from tensorflow.keras.applications.vgg16 import VGG16, preprocess_input\n",
    "\n",
    "app = Flask(__name__)\n",
    "app.config['UPLOAD_FOLDER'] = 'static/uploads'\n",
    "app.config['STATIC_FOLDER'] = 'static'\n",
    "\n",
    "# Load the pre-trained VGG16 model + higher level layers\n",
    "base_model = VGG16(weights='imagenet', include_top=False, input_shape=(150, 150, 3))\n",
    "\n",
    "# Load the SVM model\n",
    "model_filename = 'DC.joblib'\n",
    "try:\n",
    "    svm = joblib.load(model_filename)\n",
    "    print(f'SVM model loaded from {model_filename}')\n",
    "except FileNotFoundError:\n",
    "    print(f\"Error: The model file '{model_filename}' was not found.\")\n",
    "    exit()\n",
    "except Exception as e:\n",
    "    print(f\"Error loading the model: {e}\")\n",
    "    exit()\n",
    "\n",
    "def preprocess_image(image_path):\n",
    "    \"\"\"Preprocesses the image using VGG16 preprocessing for SVM prediction.\"\"\"\n",
    "    try:\n",
    "        img = load_img(image_path, target_size=(150, 150))\n",
    "        img_array = img_to_array(img)\n",
    "        img_array = np.expand_dims(img_array, axis=0)\n",
    "        img_array = preprocess_input(img_array)\n",
    "        features = base_model.predict(img_array)\n",
    "        features = np.reshape(features, (features.shape[0], -1))  # Flatten the features\n",
    "        return features\n",
    "    except FileNotFoundError:\n",
    "        print(f\"Error: The file '{image_path}' was not found.\")\n",
    "    except UnidentifiedImageError:\n",
    "        print(f\"Error: The file '{image_path}' is not a valid image.\")\n",
    "    except Exception as e:\n",
    "        print(f\"Error processing the image: {e}\")\n",
    "    return None  # Return None to signal an error in image loading\n",
    "\n",
    "def predict_image(image_path):\n",
    "    \"\"\"Predicts the class of the uploaded image.\"\"\"\n",
    "    features = preprocess_image(image_path)\n",
    "    if features is None:\n",
    "        return None  # Indicate that preprocessing failed\n",
    "    prediction = svm.predict(features)[0]\n",
    "    return prediction\n",
    "\n",
    "@app.route('/', methods=['GET', 'POST'])\n",
    "def upload_image():\n",
    "    if request.method == 'POST':\n",
    "        if 'file' not in request.files:\n",
    "            return redirect(request.url)\n",
    "        file = request.files['file']\n",
    "        if file.filename == '':\n",
    "            return redirect(request.url)\n",
    "        if file:\n",
    "            filename = file.filename\n",
    "            filepath = os.path.join(app.config['UPLOAD_FOLDER'], filename)\n",
    "            file.save(filepath)\n",
    "            predicted_class = predict_image(filepath)\n",
    "            if predicted_class is not None:\n",
    "                if predicted_class == 1:\n",
    "                    label = 'dog'\n",
    "                elif predicted_class == 0:\n",
    "                    label = 'cat'\n",
    "                else:\n",
    "                    label = 'invalid input'\n",
    "                return render_template('result.html', label=label, filename=filename)\n",
    "            else:\n",
    "                return render_template('error.html', message=\"Error: Unable to process the image. Please check the path or file format.\")\n",
    "    return render_template('upload.html')\n",
    "\n",
    "if __name__ == '__main__':\n",
    "    if not os.path.exists(app.config['UPLOAD_FOLDER']):\n",
    "        os.makedirs(app.config['UPLOAD_FOLDER'])\n",
    "    app.run(debug=True, use_reloader=False)  # Disable the reloader\n"
   ]
  },
  {
   "cell_type": "code",
   "execution_count": null,
   "id": "24f68ec3",
   "metadata": {},
   "outputs": [],
   "source": []
  }
 ],
 "metadata": {
  "kernelspec": {
   "display_name": "Python 3 (ipykernel)",
   "language": "python",
   "name": "python3"
  },
  "language_info": {
   "codemirror_mode": {
    "name": "ipython",
    "version": 3
   },
   "file_extension": ".py",
   "mimetype": "text/x-python",
   "name": "python",
   "nbconvert_exporter": "python",
   "pygments_lexer": "ipython3",
   "version": "3.11.4"
  }
 },
 "nbformat": 4,
 "nbformat_minor": 5
}
